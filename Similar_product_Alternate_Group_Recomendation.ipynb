{
  "nbformat": 4,
  "nbformat_minor": 0,
  "metadata": {
    "colab": {
      "provenance": [],
      "authorship_tag": "ABX9TyOOAHWldWgYS2g3haUrWC8g",
      "include_colab_link": true
    },
    "kernelspec": {
      "name": "python3",
      "display_name": "Python 3"
    },
    "language_info": {
      "name": "python"
    }
  },
  "cells": [
    {
      "cell_type": "markdown",
      "metadata": {
        "id": "view-in-github",
        "colab_type": "text"
      },
      "source": [
        "<a href=\"https://colab.research.google.com/github/RAGHAVJHA01/Fake-news-classifier/blob/main/Similar_product_Alternate_Group_Recomendation.ipynb\" target=\"_parent\"><img src=\"https://colab.research.google.com/assets/colab-badge.svg\" alt=\"Open In Colab\"/></a>"
      ]
    },
    {
      "cell_type": "markdown",
      "source": [
        "**Load Sentence Transformer through pip command**\n",
        "---\n",
        "\n"
      ],
      "metadata": {
        "id": "_MIt6LZ_eTaV"
      }
    },
    {
      "cell_type": "code",
      "source": [
        "pip install sentence_transformers"
      ],
      "metadata": {
        "id": "rlPOSU4MeByx"
      },
      "execution_count": null,
      "outputs": []
    },
    {
      "cell_type": "markdown",
      "source": [
        "**Load Improtant Library**"
      ],
      "metadata": {
        "id": "evmxUM6QdQvW"
      }
    },
    {
      "cell_type": "code",
      "source": [
        "import requests\n",
        "import numpy as np\n",
        "from sentence_transformers import SentenceTransformer\n",
        "from sklearn.metrics.pairwise import cosine_similarity\n",
        "import json"
      ],
      "metadata": {
        "id": "vy5yH91RdU7H"
      },
      "execution_count": 7,
      "outputs": []
    },
    {
      "cell_type": "markdown",
      "source": [
        "**Create A Function For Alternate PRoduct Where We Create A Cluster of Simlar Product Using Sentence Transformer where we implement Distilbert and for getting A result on the basis of there we Implement Cosinse Simlarity**"
      ],
      "metadata": {
        "id": "EL34lHl6fpJv"
      }
    },
    {
      "cell_type": "code",
      "execution_count": 6,
      "metadata": {
        "id": "Mzh1JIercB_9"
      },
      "outputs": [],
      "source": [
        "def FindAlternateGroups(titles, links, similarity_threshold):\n",
        "    \"\"\"\n",
        "    Finds alternate groups of similar titles based on a similarity threshold.\n",
        "\n",
        "    Args:\n",
        "        titles (list): List of titles.\n",
        "        links (list): List of links corresponding to the titles.\n",
        "        similarity_threshold (float): Threshold for similarity between titles.\n",
        "\n",
        "    Returns:\n",
        "        list: List of alternate product groups.\n",
        "    \"\"\"\n",
        "    # Apply transformer model to find distil bert for similar title similar titles \n",
        "    model = SentenceTransformer('distilbert-base-nli-mean-tokens')\n",
        "\n",
        "    # Encode the titles using the transformer model\n",
        "    sentence_embeddings = model.encode(titles)\n",
        "\n",
        "    # Calculate the cosine similarity between each pair of titles\n",
        "    similarities = cosine_similarity(sentence_embeddings)\n",
        "\n",
        "    # Create a list to store the alternate product groups\n",
        "    alternate_groups = []\n",
        "\n",
        "    # Find alternate products based on similarity threshold\n",
        "    visited = set()\n",
        "    for i in range(len(titles)):\n",
        "        if i in visited:\n",
        "            continue\n",
        "\n",
        "        alternate_products = []\n",
        "        for j in range(len(titles)):\n",
        "            if similarities[i, j] >= similarity_threshold:\n",
        "                alternate_products.append(links[j])\n",
        "                visited.add(j)\n",
        "\n",
        "        if alternate_products:\n",
        "            alternate_groups.append({\"product alternates\": alternate_products})\n",
        "\n",
        "    # Add non-similar products to separate groups\n",
        "    #if not Requier similar element remove from array\n",
        "    non_similar_groups = []\n",
        "    for i in range(len(titles)):\n",
        "        if i not in visited:\n",
        "            non_similar_groups.append({\"product alternates\": [links[i]]})\n",
        "\n",
        "    # Combine similar and non-similar groups\n",
        "    alternate_groups += non_similar_groups\n",
        "\n",
        "    return alternate_groups\n"
      ]
    },
    {
      "cell_type": "markdown",
      "source": [
        "**Retrieve the JSON file**"
      ],
      "metadata": {
        "id": "raBZVoHrht9Q"
      }
    },
    {
      "cell_type": "code",
      "source": [
        "url = \"https://www.boysnextdoor-apparel.co/collections/all/products.json?page=1\"\n",
        "response = requests.get(url)\n",
        "data = response.json()\n"
      ],
      "metadata": {
        "id": "Hw-tA0vLhpwJ"
      },
      "execution_count": 11,
      "outputs": []
    },
    {
      "cell_type": "markdown",
      "source": [
        "**Create link Using Title**"
      ],
      "metadata": {
        "id": "quPlZnA_hjvW"
      }
    },
    {
      "cell_type": "code",
      "source": [
        "new_links = []\n",
        "titles = []\n",
        "for product in data['products']:\n",
        "    title = product.pop('title', None)\n",
        "    titles.append(title)\n",
        "    new_link = f\"https://www.boysnextdoor-apparel.co/products/{product['handle']}\"\n",
        "    new_links.append(new_link)\n",
        "\n"
      ],
      "metadata": {
        "id": "ZnFK8puVhfff"
      },
      "execution_count": 10,
      "outputs": []
    },
    {
      "cell_type": "markdown",
      "source": [
        "**Find alternate groups of similar** **titles**                               \n",
        "**where theresold  can optimze for more accourding to simlarity result** "
      ],
      "metadata": {
        "id": "_Yh9P0rKguWD"
      }
    },
    {
      "cell_type": "code",
      "source": [
        "similarity_threshold = 0.74\n",
        "ale = FindAlternateGroups(titles, new_links, similarity_threshold)"
      ],
      "metadata": {
        "id": "0KuASrcNgq26"
      },
      "execution_count": 9,
      "outputs": []
    },
    {
      "cell_type": "markdown",
      "source": [
        "**Store the alternate groups in a JSON file**"
      ],
      "metadata": {
        "id": "FMopE3OSgfa3"
      }
    },
    {
      "cell_type": "code",
      "source": [
        "output_file = \"alternate_groups.json\"\n",
        "with open(output_file, 'w') as f:\n",
        "    json.dump(ale, f)\n"
      ],
      "metadata": {
        "id": "w-oQCqv4gbkz"
      },
      "execution_count": 8,
      "outputs": []
    },
    {
      "cell_type": "markdown",
      "source": [
        "**Print Result**"
      ],
      "metadata": {
        "id": "Pk9EFdRIgXXP"
      }
    },
    {
      "cell_type": "code",
      "source": [
        "# Print the alternate groups\n",
        "for group in ale:\n",
        "    print(\"Product Alternates:\")\n",
        "    for link in group['product alternates']:\n",
        "        print(link)\n",
        "    print()\n",
        "\n",
        "print(\"All product alternates have been printed.\")\n"
      ],
      "metadata": {
        "colab": {
          "base_uri": "https://localhost:8080/"
        },
        "id": "gvgBIroNcmvc",
        "outputId": "ee23eeda-62e2-4def-ca48-df2442f8a190"
      },
      "execution_count": 5,
      "outputs": [
        {
          "output_type": "stream",
          "name": "stdout",
          "text": [
            "Product Alternates:\n",
            "https://www.boysnextdoor-apparel.co/products/a-p-c-daniela-logo-print-denim-tote-bag\n",
            "\n",
            "Product Alternates:\n",
            "https://www.boysnextdoor-apparel.co/products/and-wander-dyneema-stuffsack\n",
            "https://www.boysnextdoor-apparel.co/products/and-wander-heather-waist-bag-navy\n",
            "\n",
            "Product Alternates:\n",
            "https://www.boysnextdoor-apparel.co/products/and-wander-heather-waist-bag-charcoal\n",
            "https://www.boysnextdoor-apparel.co/products/and-wander-heather-waist-bag-navy\n",
            "\n",
            "Product Alternates:\n",
            "https://www.boysnextdoor-apparel.co/products/axel-arigato-marathon-sneaker-white-silver\n",
            "\n",
            "Product Alternates:\n",
            "https://www.boysnextdoor-apparel.co/products/beams-dot-vintage-style-bandana-overshirt\n",
            "\n",
            "Product Alternates:\n",
            "https://www.boysnextdoor-apparel.co/products/beams-plus-usn-popover-anorak\n",
            "\n",
            "Product Alternates:\n",
            "https://www.boysnextdoor-apparel.co/products/beams-two-pocket-sweater-navy\n",
            "https://www.boysnextdoor-apparel.co/products/beams-two-pocket-sweater-white\n",
            "\n",
            "Product Alternates:\n",
            "https://www.boysnextdoor-apparel.co/products/beams-x-abu-garcia-limited-edition-shorts-black\n",
            "https://www.boysnextdoor-apparel.co/products/beams-x-columbia-limited-edition-shorts-black\n",
            "https://www.boysnextdoor-apparel.co/products/copy-of-beams-x-columbia-limited-edition-shorts-navy\n",
            "https://www.boysnextdoor-apparel.co/products/ben-davis-pocket-l-s-tee-black\n",
            "\n",
            "Product Alternates:\n",
            "https://www.boysnextdoor-apparel.co/products/beams-x-abu-garcia-limited-edition-shorts-green\n",
            "https://www.boysnextdoor-apparel.co/products/copy-of-beams-x-columbia-limited-edition-shorts-navy\n",
            "https://www.boysnextdoor-apparel.co/products/ben-davis-pocket-l-s-tee-dark-green\n",
            "\n",
            "Product Alternates:\n",
            "https://www.boysnextdoor-apparel.co/products/beams-x-columbia-limited-edition-shorts-black\n",
            "https://www.boysnextdoor-apparel.co/products/beams-x-columbia-logriver-bms-jacket-black\n",
            "https://www.boysnextdoor-apparel.co/products/beams-x-columbia-logriver-bms-jacket-navy\n",
            "https://www.boysnextdoor-apparel.co/products/beams-x-columbia-riptide-short-grey\n",
            "\n",
            "Product Alternates:\n",
            "https://www.boysnextdoor-apparel.co/products/beams-x-columbia-riptide-short\n",
            "https://www.boysnextdoor-apparel.co/products/beams-x-columbia-riptide-short-grey\n",
            "\n",
            "Product Alternates:\n",
            "https://www.boysnextdoor-apparel.co/products/ben-davis-heavy-duty-pocket-tee-ash-grey\n",
            "https://www.boysnextdoor-apparel.co/products/ben-davis-heavy-duty-pocket-tee-black\n",
            "https://www.boysnextdoor-apparel.co/products/ben-davis-heavy-duty-pocket-tee-charcoal\n",
            "https://www.boysnextdoor-apparel.co/products/ben-davis-heavy-duty-pocket-tee-white\n",
            "https://www.boysnextdoor-apparel.co/products/ben-davis-pocket-l-s-tee-beige\n",
            "https://www.boysnextdoor-apparel.co/products/ben-davis-pocket-l-s-tee-black\n",
            "https://www.boysnextdoor-apparel.co/products/ben-davis-pocket-l-s-tee-dark-green\n",
            "\n",
            "Product Alternates:\n",
            "https://www.boysnextdoor-apparel.co/products/beams-two-pocket-sweater-white\n",
            "https://www.boysnextdoor-apparel.co/products/ben-davis-heavy-duty-pocket-tee-white\n",
            "https://www.boysnextdoor-apparel.co/products/ben-davis-pocket-l-s-tee-beige\n",
            "https://www.boysnextdoor-apparel.co/products/ben-davis-pocket-l-s-tee-black\n",
            "https://www.boysnextdoor-apparel.co/products/ben-davis-pocket-l-s-tee-white\n",
            "\n",
            "Product Alternates:\n",
            "https://www.boysnextdoor-apparel.co/products/ben-davis-heavy-duty-pocket-tee-black\n",
            "https://www.boysnextdoor-apparel.co/products/ben-davis-pocket-l-s-tee-black\n",
            "https://www.boysnextdoor-apparel.co/products/ben-davis-the-original-low-cap-in-black\n",
            "\n",
            "Product Alternates:\n",
            "https://www.boysnextdoor-apparel.co/products/birkenstock-zurich-suede-sandals-mink\n",
            "https://www.boysnextdoor-apparel.co/products/birkenstock-zurich-suede-sandals-mocha\n",
            "https://www.boysnextdoor-apparel.co/products/birkenstock-zurich-suede-sandals-taupe\n",
            "\n",
            "Product Alternates:\n",
            "https://www.boysnextdoor-apparel.co/products/boysnextdoor-3-way-patchwork-cargo-chino-pants-black\n",
            "\n",
            "All product alternates have been printed.\n"
          ]
        }
      ]
    },
    {
      "cell_type": "code",
      "source": [],
      "metadata": {
        "id": "rSPfWdrQdI3a"
      },
      "execution_count": null,
      "outputs": []
    }
  ]
}